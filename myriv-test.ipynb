{
 "cells": [
  {
   "cell_type": "markdown",
   "id": "fc21286c-cf01-49fd-a124-9a1952584f03",
   "metadata": {},
   "source": [
    "## Installing, importing, etc."
   ]
  },
  {
   "cell_type": "markdown",
   "id": "ffdf53d1-fafe-42e5-b384-9f29d8a4cdd2",
   "metadata": {},
   "source": [
    "### installing usual stuff"
   ]
  },
  {
   "cell_type": "code",
   "execution_count": null,
   "id": "aba4b07b-144d-41ef-8245-ee1188be6020",
   "metadata": {
    "scrolled": true
   },
   "outputs": [],
   "source": [
    "!pip install -U spacy-experimental\n",
    "!pip install https://github.com/explosion/spacy-experimental/releases/download/v0.6.0/en_coreference_web_trf-3.4.0a0-py3-none-any.whl\n",
    "#egg=en_coreference_web_trf\n",
    "!spacy download en_core_web_sm"
   ]
  },
  {
   "cell_type": "code",
   "execution_count": null,
   "id": "68953571-e594-402b-81a3-3e0e2ed24e66",
   "metadata": {
    "scrolled": true
   },
   "outputs": [],
   "source": [
    "import os\n",
    "!pip install pandas\n",
    "!pip install seaborn"
   ]
  },
  {
   "cell_type": "code",
   "execution_count": null,
   "id": "44b8747f-a1c2-4f2e-95fe-5dd56ec8de7b",
   "metadata": {},
   "outputs": [],
   "source": [
    "!pip install -e ."
   ]
  },
  {
   "cell_type": "code",
   "execution_count": null,
   "id": "a66fe8a8-d186-41f1-9d3d-9f116917b3c1",
   "metadata": {},
   "outputs": [],
   "source": [
    "from collections import defaultdict\n",
    "from datetime import datetime\n",
    "import os\n",
    "import pandas as pd\n",
    "import random\n",
    "import numpy as np\n",
    "\n",
    "import seaborn as sns\n",
    "import matplotlib.pyplot as plt"
   ]
  },
  {
   "cell_type": "code",
   "execution_count": null,
   "id": "a0c85e7b-acd2-4d49-89e2-b3dd15635305",
   "metadata": {},
   "outputs": [],
   "source": [
    "# SPACY & COREF IMPORTS\n",
    "import spacy\n",
    "import spacy_experimental\n",
    "nlp = spacy.load(\"en_core_web_sm\")\n",
    "nlp_coref = spacy.load(\"en_coreference_web_trf\")\n",
    "\n",
    "nlp_coref.replace_listeners(\"transformer\", \"coref\", [\"model.tok2vec\"])\n",
    "nlp_coref.replace_listeners(\"transformer\", \"span_resolver\", [\"model.tok2vec\"])\n",
    "\n",
    "nlp.add_pipe(\"coref\", source=nlp_coref)\n",
    "nlp.add_pipe(\"span_resolver\", source=nlp_coref)"
   ]
  },
  {
   "cell_type": "code",
   "execution_count": null,
   "id": "7f6206ed-86b4-4494-bea7-9d1585a0a017",
   "metadata": {},
   "outputs": [],
   "source": [
    "from riveter import Riveter"
   ]
  },
  {
   "cell_type": "markdown",
   "id": "3945d713-e728-4b74-acd2-016d809979d8",
   "metadata": {},
   "source": [
    "## Information about different functions"
   ]
  },
  {
   "cell_type": "markdown",
   "id": "25dbacba-ce86-4bd7-a69a-34feb4f4c6e6",
   "metadata": {},
   "source": [
    "### Frequency Threshold\n",
    "- the minimum number of times entitites/characters have to interact to be included in the results. Default is 1 --> every pair that interacts even once. "
   ]
  },
  {
   "cell_type": "code",
   "execution_count": null,
   "id": "8a9ba06d-b6e0-4f22-a118-bec12e257955",
   "metadata": {},
   "outputs": [],
   "source": [
    "example_stories = [\"I was just thinking about walking down the street, when a car hit a tree. I had to call my doctor to pick me up. I felt so bad I also called Katie, who came in her car. She saved me.\",\n",
    "                   \"My doctor fixed my shoe. I thanked him. Then Susan arrived. Now she is calling the doctor too.\",\n",
    "                   \"Mary went to the store. She thanked the doctor. He called her. He replied that it was no problem.\",\n",
    "                   \"Jack broke the vase.\"]\n",
    "text_ids = [0, 1, 2]"
   ]
  },
  {
   "cell_type": "markdown",
   "id": "f04dc93c-41e4-4991-98a1-e7654c86558a",
   "metadata": {},
   "source": [
    "### Sap et al Power and Agency"
   ]
  },
  {
   "cell_type": "markdown",
   "id": "b9b99a18-b156-4f53-b6de-d3e454b01113",
   "metadata": {},
   "source": [
    "#### load_sap_lexicon(dimension=' ')\n",
    "-loads sap et al. verb lexicon\n",
    "- __dimension__ - select 'power' or 'agency'"
   ]
  },
  {
   "cell_type": "code",
   "execution_count": null,
   "id": "d2d8bbe4-ad07-4c1d-9180-361a14a552d5",
   "metadata": {},
   "outputs": [],
   "source": [
    "riveter = Riveter()\n",
    "riveter.load_sap_lexicon('power') \n",
    "#when doing for my data - the arguments will be (body, ids) where ids = df['id']\n",
    "riveter.train(example_stories, text_ids)"
   ]
  },
  {
   "cell_type": "markdown",
   "id": "3af8df45-8ab5-4cfa-ba64-6e2fe31c9660",
   "metadata": {},
   "source": [
    "#### riveter.get_score_totals(frequency_threshold=1)\n",
    "- gets the total scores of every entity i.e. it's a numeric value representing the strength/direction og a social dynamic within a given context.\n",
    "- It returns a dictionary of entities and their total scores."
   ]
  },
  {
   "cell_type": "code",
   "execution_count": null,
   "id": "046baa70-04e7-4aca-a249-ef0410b55f78",
   "metadata": {},
   "outputs": [],
   "source": [
    "riveter.get_score_totals(frequency_threshold=1)"
   ]
  },
  {
   "cell_type": "markdown",
   "id": "c25fd3fe-c936-4720-a062-e86f800baa8a",
   "metadata": {},
   "source": [
    "#### riveter.plot_scores(number_of_scores=10, title=\"Personas by Score\", frequency_threshold=0)\n",
    "- creates a barplot showing the final scores across the dataset\n",
    "- __number_of_scores__: shows only the top or bottom number of scores (optional, integer)\n",
    "- __title__ : Plot title (optional, string)"
   ]
  },
  {
   "cell_type": "code",
   "execution_count": null,
   "id": "fb9f8592-dd40-488f-a8bb-b43c2ffd6f39",
   "metadata": {},
   "outputs": [],
   "source": [
    "riveter.plot_scores()"
   ]
  },
  {
   "cell_type": "code",
   "execution_count": null,
   "id": "edb216be-d14f-41e8-855f-de07729a9c00",
   "metadata": {},
   "outputs": [],
   "source": [
    "example_stories[0]"
   ]
  },
  {
   "cell_type": "markdown",
   "id": "e47952ff-8be2-46e1-86ad-89bfa9ea2b75",
   "metadata": {},
   "source": [
    "#### riveter.get_scores_for_doc(doc_id, frequency_threshold=0)\n",
    "- get the final scores for all the entities above some frequency threshold in a single document\n",
    "- __doc_id__: string/integer - show results for this document\n",
    "- __frequency_threshold__: Entities must be matched to at least this many verbs to appear in the output.\n",
    "- returns a nested dictionary of document id, entities, and their total scores"
   ]
  },
  {
   "cell_type": "code",
   "execution_count": null,
   "id": "35b8f91c-e058-4a1e-8ad4-ae7b441e33b4",
   "metadata": {},
   "outputs": [],
   "source": [
    "riveter.get_scores_for_doc(0)"
   ]
  },
  {
   "cell_type": "markdown",
   "id": "581cc1fc-2447-441f-9105-116786b61b72",
   "metadata": {},
   "source": [
    "#### riveter.plot_scores_for_doc(doc_id, number_of_scores=10, title=\"Personas by Score\", frequency_threshold=0)\n",
    "- creates a bar plot showing the final scores for a single document\n",
    "- __number_of_scores__: integer, optional - only shows the top or bottom number of scores\n",
    "- __title__: string, optional - plot title"
   ]
  },
  {
   "cell_type": "code",
   "execution_count": null,
   "id": "cb0f1d97-c155-41b2-9f88-39c07f890437",
   "metadata": {},
   "outputs": [],
   "source": [
    "riveter.plot_scores_for_doc(0)"
   ]
  },
  {
   "cell_type": "markdown",
   "id": "d3f803ef-3778-4e56-adfc-5378c3830759",
   "metadata": {},
   "source": [
    "#### riveter.get_persona_polarity_verb_count_dict()\n",
    "- Gets all the verbs, their frequencies, and whether they contributed positively or negatively to the final scores for every entity. Computed across the whole dataset.\n",
    "- returns a nested dictionary of entities, positive/negative contributions, verbs, and counts\n",
    "\n",
    "__how to interpret results:__ <br>\n",
    "{persona: {\n",
    "    polarity (positive/negative): {\n",
    "        verb+role: count\n",
    "    }\n",
    "}} \n",
    "\n",
    "where: \n",
    "- _Persona_: entity (character/object)\n",
    "- _Polarity_: positive or negative connotation of the interaction\n",
    "- _Verb+role_: the verb and the syntactic role the persona played\n",
    "    - verb_nsubj - the persona is an agent of the positive/negative actions\n",
    "    - verb_dobj - the persona is the direct object/receiver of said actions.\n",
    "- _Count_: how many times that verb-role combo occured\n",
    "  "
   ]
  },
  {
   "cell_type": "code",
   "execution_count": null,
   "id": "4a9a9c7e-4742-44b9-8edd-ccd73e1ba9bb",
   "metadata": {},
   "outputs": [],
   "source": [
    "riveter.get_persona_polarity_verb_count_dict()"
   ]
  },
  {
   "cell_type": "markdown",
   "id": "85ed9a15-4b7d-4102-95f1-02aa2d479a49",
   "metadata": {},
   "source": [
    "#### riveter.plot_verbs_for_persona(persona, figsize=None, output_path=None)\n",
    "- Creates a heatmap showing the verb counts for a single persona\n",
    "- Essentially, a breakdown of the verbs that contributed (positively or negativeley) to a persona's final score\n",
    "- __persona__: string - the entity whose results will be shown in the plot\n",
    "- __figsize__: tuple, optional - figure dimensions, eg (2,4)\n",
    "- __output_path__: string, optional - where to save the plot as a file"
   ]
  },
  {
   "cell_type": "code",
   "execution_count": null,
   "id": "33cbe50c-5e7c-40f8-8895-1424dcf0270d",
   "metadata": {},
   "outputs": [],
   "source": [
    "riveter.plot_verbs_for_persona('i', figsize=(2,4))"
   ]
  },
  {
   "cell_type": "markdown",
   "id": "6c37c39e-66f6-49b8-831d-75a8610c2d0d",
   "metadata": {},
   "source": [
    "#### riveter.get_persona_counts()\n",
    "- Get the total counts for the entities (all entity matches, whether or not they were matched to a lexicon verb).\n",
    "- returns a dictionary of entities and integer counts"
   ]
  },
  {
   "cell_type": "code",
   "execution_count": null,
   "id": "0e7cb90d-8cd4-415b-87ce-ea4294323871",
   "metadata": {},
   "outputs": [],
   "source": [
    "riveter.get_persona_counts()"
   ]
  },
  {
   "cell_type": "markdown",
   "id": "b454909c-56d0-4253-b720-87dfbe1f9074",
   "metadata": {},
   "source": [
    "#### riveter.count_personas_for_doc(doc_id)\n",
    "- get the entity counts for a single document in the form of a single dictionary"
   ]
  },
  {
   "cell_type": "code",
   "execution_count": null,
   "id": "4c23745a-2e01-438f-9361-97677fab8cae",
   "metadata": {},
   "outputs": [],
   "source": [
    "example_stories[1]"
   ]
  },
  {
   "cell_type": "code",
   "execution_count": null,
   "id": "a72b77cb-b755-4559-81b1-1c6c589974a6",
   "metadata": {},
   "outputs": [],
   "source": [
    "riveter.count_personas_for_doc(1)"
   ]
  },
  {
   "cell_type": "markdown",
   "id": "7904c80e-1ee5-427d-b2ac-c950a7fa4886",
   "metadata": {},
   "source": [
    "#### riveter.count_scored_verbs_for_doc(doc_id) \n",
    "- get the verb counts (verbs that were matched to the lexicon) for a single document\n",
    "- dictionary of verbs and integer counts"
   ]
  },
  {
   "cell_type": "code",
   "execution_count": null,
   "id": "f319af2a-8568-4279-9094-f89dfcd385de",
   "metadata": {},
   "outputs": [],
   "source": [
    "riveter.count_scored_verbs_for_doc(0)"
   ]
  },
  {
   "cell_type": "markdown",
   "id": "348f3b79-76a1-4474-b912-1d786eaad58f",
   "metadata": {},
   "source": [
    "#### riveter.count_nsubj_for_doc(doc_id, matched_only = False) _OR_ riveter.count_dobj_for_doc(doc_id, matched_only = False)\n",
    "- gets the noun subject (nsubj) or direct object (dobj) counts for a document\n",
    "- __matched_only__: boolean - if true, returns only the subject/direct obejects that were matched to identitfied entities\n",
    "- returns a dictionary of nsubj/dobj and their counts"
   ]
  },
  {
   "cell_type": "code",
   "execution_count": null,
   "id": "c2c33a12-1441-49d8-8005-65904d8dfbbd",
   "metadata": {},
   "outputs": [],
   "source": [
    "riveter.count_nsubj_for_doc(0, matched_only = False)"
   ]
  },
  {
   "cell_type": "code",
   "execution_count": null,
   "id": "1542546f-b18a-47b3-8b91-140e04911110",
   "metadata": {},
   "outputs": [],
   "source": [
    "riveter.count_dobj_for_doc(0, matched_only = False)"
   ]
  },
  {
   "cell_type": "markdown",
   "id": "dfb52fbd-2132-4861-9fe7-fc285e4e1806",
   "metadata": {},
   "source": [
    "#### riveter.get_persona_cluster(persona)\n",
    "- returns all the different mentions (words or phrases) in the text that Riveter thinks refer to the same persona from _neuralcoref_ i.e. coreferencing"
   ]
  },
  {
   "cell_type": "code",
   "execution_count": null,
   "id": "6f1c9b2d-fbe6-47f4-ab61-f949cc95b956",
   "metadata": {},
   "outputs": [],
   "source": [
    "riveter.get_persona_cluster('doctor')"
   ]
  },
  {
   "cell_type": "markdown",
   "id": "a1e08673-d235-4602-a9a6-05a0c9e0c48f",
   "metadata": {},
   "source": [
    "### Rashkin's Lexicon of Connotation Frames \n",
    "Rashkin et al. defines a connotation frame F(v) as a collection of typed relations and their polarity assignments."
   ]
  },
  {
   "cell_type": "code",
   "execution_count": null,
   "id": "ebd04959-80f5-431d-8b88-e9814f670f04",
   "metadata": {},
   "outputs": [],
   "source": [
    "example_stories = [\"I was just thinking about walking down the street, when my shoelace snapped. I had to call my doctor to pick me up. I felt so bad I also called my friend Katie, who came in her car. She was a lifesaver. My friend Jack is nice.\",\n",
    "                   \"My doctor fixed my shoe. I thanked him. Then Susan arrived. Now she is calling the doctor too.\"]\n",
    "text_ids = [0, 1]"
   ]
  },
  {
   "cell_type": "markdown",
   "id": "eecd7fbd-7fd1-4588-828c-f1f8b4d179d7",
   "metadata": {},
   "source": [
    "#### Connotation Frames available via Rashkin: \n",
    "- __effect__: whether the event denoted by a predicate is good or bad for the entity\n",
    "- __state__: the likely mental state of an entity as the result of an event\n",
    "- __value__: whether an entity is presupposed to be valuable\n",
    "- __writer_perspective__/__reader_perspective__: the directed sentiment from the writer to an entity or the _predicted_ directed sentiment from reader to an entity\n",
    "- __agent_theme_perspective__/__theme_agent_perspective__: the directed sentiment between the agent and theme (usually reciprocal and not likely to totally contradict each other). \n",
    "\n",
    "Connotation frame polarity can be positive, negative, or neutral. \n"
   ]
  },
  {
   "cell_type": "markdown",
   "id": "77ccd54a-48b1-4aad-81ef-99c9fb400b4e",
   "metadata": {},
   "source": [
    "#### load_rashkin_lexicon(dimension=' ')\n",
    "- load Rashkin et al., 2016 verb lexicon\n",
    "- __dimension__: choose one of the connotation frames above"
   ]
  },
  {
   "cell_type": "code",
   "execution_count": null,
   "id": "6cdd66c0-1698-47d9-aac8-1dabbc45c34a",
   "metadata": {},
   "outputs": [],
   "source": [
    "riveter = Riveter()\n",
    "riveter.load_rashkin_lexicon('effect') \n",
    "riveter.train(example_stories,\n",
    "              text_ids)"
   ]
  },
  {
   "cell_type": "markdown",
   "id": "cba2e3c2-4f34-483b-ac37-e65b240dbcea",
   "metadata": {},
   "source": [
    "#### riveter.get_documents_for_verb(target_verb)\n",
    "- find all the documents matched to the verb\n",
    "- __target_verb__: string - the verb you'd like to match\n",
    "- returns a list of matched document IDs, and a list of matched document texts"
   ]
  },
  {
   "cell_type": "code",
   "execution_count": null,
   "id": "28442498-8382-404f-8eaa-0449a97a12f4",
   "metadata": {},
   "outputs": [],
   "source": [
    "riveter.get_documents_for_verb('call')"
   ]
  },
  {
   "cell_type": "markdown",
   "id": "31c67a54-2853-4147-9b21-6a8160bc5294",
   "metadata": {},
   "source": [
    "#### riveter.get_documents_for_persona(target_persona)\n",
    "- find all the documents matched to the persona\n",
    "- __target_persona__: string, the persona you want to match\n",
    "- returns a list of matched doc IDs and a list of matched document texts"
   ]
  },
  {
   "cell_type": "code",
   "execution_count": null,
   "id": "5483904c-fbb8-4495-bd21-4de7893bbae9",
   "metadata": {},
   "outputs": [],
   "source": [
    "riveter.get_documents_for_persona('doctor')"
   ]
  }
 ],
 "metadata": {
  "kernelspec": {
   "display_name": "Python 3 (ipykernel)",
   "language": "python",
   "name": "python3"
  },
  "language_info": {
   "codemirror_mode": {
    "name": "ipython",
    "version": 3
   },
   "file_extension": ".py",
   "mimetype": "text/x-python",
   "name": "python",
   "nbconvert_exporter": "python",
   "pygments_lexer": "ipython3",
   "version": "3.9.23"
  }
 },
 "nbformat": 4,
 "nbformat_minor": 5
}
