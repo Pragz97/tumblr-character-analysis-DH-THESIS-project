{
 "cells": [
  {
   "cell_type": "markdown",
   "id": "903afc79-5076-44b4-8bb1-aebfd16152a4",
   "metadata": {},
   "source": [
    "Set Up to use Tumblr API"
   ]
  },
  {
   "cell_type": "code",
   "execution_count": null,
   "id": "b684809d-8847-4a6a-ab50-ee3f297d3469",
   "metadata": {},
   "outputs": [],
   "source": [
    "!pip install pytumblr pyyaml rauth"
   ]
  },
  {
   "cell_type": "code",
   "execution_count": null,
   "id": "19d8e4e7-2840-4361-b4e0-72147283cbed",
   "metadata": {},
   "outputs": [],
   "source": [
    "import pytumblr\n",
    "import os\n",
    "import yaml\n",
    "import webbrowser\n",
    "from rauth import OAuth1Service\n",
    "from pathlib import Path\n",
    "from urllib.parse import urlparse, parse_qs"
   ]
  },
  {
   "cell_type": "code",
   "execution_count": null,
   "id": "ad046eb0-95b2-4b69-84e2-c9e78d47ec30",
   "metadata": {},
   "outputs": [],
   "source": [
    "# Set your Tumblr App credentials\n",
    "consumer_key = \"<consumer_key>\"\n",
    "consumer_secret = \"<consumer_secret>\"\n",
    "\n",
    "# Token storage path\n",
    "tumblr_token_path = Path.home() / \".tumblr\"\n",
    "\n",
    "# Function to load tokens from file\n",
    "def load_tokens():\n",
    "    if tumblr_token_path.exists():\n",
    "        with open(tumblr_token_path, \"r\") as f:\n",
    "            return yaml.safe_load(f)\n",
    "    return None\n",
    "\n",
    "# Function to save tokens to file\n",
    "def save_tokens(tokens):\n",
    "    with open(tumblr_token_path, \"w\") as f:\n",
    "        yaml.dump(tokens, f)\n",
    "    print(f\"Tokens saved to {tumblr_token_path}\")"
   ]
  },
  {
   "cell_type": "code",
   "execution_count": null,
   "id": "04776ff2-bf75-4488-9d6f-6ed30b3dee98",
   "metadata": {},
   "outputs": [],
   "source": [
    "def do_oauth():\n",
    "    tumblr = OAuth1Service(\n",
    "        name='tumblr',\n",
    "        consumer_key=consumer_key,\n",
    "        consumer_secret=consumer_secret,\n",
    "        request_token_url='https://www.tumblr.com/oauth/request_token',\n",
    "        access_token_url='https://www.tumblr.com/oauth/access_token',\n",
    "        authorize_url='https://www.tumblr.com/oauth/authorize',\n",
    "        base_url='https://api.tumblr.com/v2/'\n",
    "    )\n",
    "    # Step 1: Get request token\n",
    "    request_token, request_token_secret = tumblr.get_request_token(params={'oauth_callback': 'http://www.example.com'})\n",
    "    authorize_url = tumblr.get_authorize_url(request_token) \n",
    "\n",
    "    print(\"Go to this URL and authorize the app:\")\n",
    "    print(authorize_url)\n",
    "\n",
    "    webbrowser.open(authorize_url)\n",
    "\n",
    "    verifier = input(\"Paste the verifier Tumblr shows you: \").strip()\n",
    "\n",
    "    session = tumblr.get_auth_session(request_token, request_token_secret,\n",
    "                                 method='POST', data={'oauth_verifier': verifier})\n",
    "     # Print the oauth_token and oauth_token_secret\n",
    "    print(\"OAuth Token:\", session.access_token)\n",
    "    print(\"OAuth Token Secret:\", session.access_token_secret)\n",
    "\n",
    "    return {\n",
    "        'consumer_key': consumer_key,\n",
    "        'consumer_secret': consumer_secret,\n",
    "        'oauth_token': session.access_token,\n",
    "        'oauth_token_secret': session.access_token_secret\n",
    "    }"
   ]
  },
  {
   "cell_type": "markdown",
   "id": "a234dec2-7b85-41c6-ae1f-5d2b5907e08e",
   "metadata": {},
   "source": [
    "__After running the snippet below, and authorizing the app, the verifier is found in the URL after 'oauth_verifier='__"
   ]
  },
  {
   "cell_type": "code",
   "execution_count": null,
   "id": "3f96c052-7837-41f8-a210-1fdb91e9ac2e",
   "metadata": {},
   "outputs": [],
   "source": [
    "tokens = do_oauth()"
   ]
  },
  {
   "cell_type": "code",
   "execution_count": null,
   "id": "662a787e-ebdb-4737-b907-3c0adfa1aa5c",
   "metadata": {},
   "outputs": [],
   "source": [
    "client = pytumblr.TumblrRestClient(\n",
    "    '<consumer_key>',\n",
    "    '<consumer_secret>',\n",
    "    '<oauth_token>',\n",
    "    '<oauth_secret>',\n",
    ")\n",
    "\n",
    "blog_name = '<replace with link to tumblr page>'"
   ]
  },
  {
   "cell_type": "code",
   "execution_count": null,
   "id": "d0662411-213e-4132-b546-b57d066a4f9f",
   "metadata": {},
   "outputs": [],
   "source": []
  },
  {
   "cell_type": "code",
   "execution_count": null,
   "id": "a8411033-5afa-4a6f-8395-b5a3c5c65a82",
   "metadata": {},
   "outputs": [],
   "source": []
  },
  {
   "cell_type": "code",
   "execution_count": null,
   "id": "54127ab9-0554-4de6-bb5d-06e75f62dcf1",
   "metadata": {},
   "outputs": [],
   "source": []
  },
  {
   "cell_type": "code",
   "execution_count": null,
   "id": "0f44d4de-f78c-4392-95a3-edc42093bf72",
   "metadata": {},
   "outputs": [],
   "source": []
  },
  {
   "cell_type": "code",
   "execution_count": null,
   "id": "6061e1d7-f351-4c5a-aca0-b7aeb272c796",
   "metadata": {},
   "outputs": [],
   "source": []
  },
  {
   "cell_type": "code",
   "execution_count": null,
   "id": "a298d406-0e44-4ac6-9cd2-f665e6590325",
   "metadata": {},
   "outputs": [],
   "source": []
  },
  {
   "cell_type": "code",
   "execution_count": null,
   "id": "99cd44df-dce5-4e80-bce5-d780650c79d9",
   "metadata": {},
   "outputs": [],
   "source": []
  },
  {
   "cell_type": "code",
   "execution_count": null,
   "id": "bcda5395-a125-4072-b5fc-479172e60a50",
   "metadata": {},
   "outputs": [],
   "source": []
  },
  {
   "cell_type": "code",
   "execution_count": null,
   "id": "e6559aa8-ddf6-44ac-8d4b-6b6b765e6eac",
   "metadata": {},
   "outputs": [],
   "source": []
  },
  {
   "cell_type": "code",
   "execution_count": null,
   "id": "9e620c9b-8cfa-4654-abd1-93e2f9bb4577",
   "metadata": {},
   "outputs": [],
   "source": []
  },
  {
   "cell_type": "code",
   "execution_count": null,
   "id": "08cd9739-20c2-4a57-888e-5d2aa8389fca",
   "metadata": {},
   "outputs": [],
   "source": []
  },
  {
   "cell_type": "code",
   "execution_count": null,
   "id": "451b629f-b0a9-47a7-a4c0-6b79af10d51d",
   "metadata": {},
   "outputs": [],
   "source": []
  },
  {
   "cell_type": "code",
   "execution_count": null,
   "id": "df793aaa-5275-4529-bd89-11b232d92681",
   "metadata": {},
   "outputs": [],
   "source": []
  },
  {
   "cell_type": "code",
   "execution_count": null,
   "id": "fd16ea3b-062c-4691-9f6a-ae361f37cf3c",
   "metadata": {},
   "outputs": [],
   "source": []
  },
  {
   "cell_type": "code",
   "execution_count": null,
   "id": "3d39afd0-5928-4f1a-937b-07845427fb32",
   "metadata": {},
   "outputs": [],
   "source": []
  },
  {
   "cell_type": "code",
   "execution_count": null,
   "id": "bda85211-48ec-4007-a46e-400383f253ad",
   "metadata": {},
   "outputs": [],
   "source": []
  },
  {
   "cell_type": "code",
   "execution_count": null,
   "id": "f49e92a2-1c59-42c4-b766-2050df72fc41",
   "metadata": {},
   "outputs": [],
   "source": []
  },
  {
   "cell_type": "code",
   "execution_count": null,
   "id": "966f2034-6ad4-4814-9e8e-d6fcce9faa61",
   "metadata": {},
   "outputs": [],
   "source": []
  },
  {
   "cell_type": "code",
   "execution_count": null,
   "id": "26b0b424-c32f-4c95-8af0-0623031039f7",
   "metadata": {},
   "outputs": [],
   "source": []
  }
 ],
 "metadata": {
  "kernelspec": {
   "display_name": "Python 3 (ipykernel)",
   "language": "python",
   "name": "python3"
  },
  "language_info": {
   "codemirror_mode": {
    "name": "ipython",
    "version": 3
   },
   "file_extension": ".py",
   "mimetype": "text/x-python",
   "name": "python",
   "nbconvert_exporter": "python",
   "pygments_lexer": "ipython3",
   "version": "3.9.23"
  }
 },
 "nbformat": 4,
 "nbformat_minor": 5
}
