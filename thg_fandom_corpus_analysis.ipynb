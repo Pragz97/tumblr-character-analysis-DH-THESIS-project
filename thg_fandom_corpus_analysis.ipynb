{
 "cells": [
  {
   "cell_type": "markdown",
   "id": "c0c20b76-6c63-4dd9-bf16-b60e583cddf4",
   "metadata": {},
   "source": [
    "# Set Up for Analysis"
   ]
  },
  {
   "cell_type": "markdown",
   "id": "bb0d42c4-2f63-4ca8-92f0-922445274a53",
   "metadata": {},
   "source": [
    "Tumblr Set Up"
   ]
  },
  {
   "cell_type": "code",
   "execution_count": null,
   "id": "ea533108-f785-4a9e-8197-11b1aa01f3a5",
   "metadata": {},
   "outputs": [],
   "source": [
    "!pip install pytumblr pyyaml rauth"
   ]
  },
  {
   "cell_type": "code",
   "execution_count": null,
   "id": "7eb47dae-6569-4494-85f9-2417ae7f2e78",
   "metadata": {},
   "outputs": [],
   "source": [
    "import pytumblr\n",
    "import os\n",
    "import yaml\n",
    "import webbrowser\n",
    "from rauth import OAuth1Service\n",
    "from pathlib import Path\n",
    "from urllib.parse import urlparse, parse_qs"
   ]
  },
  {
   "cell_type": "code",
   "execution_count": null,
   "id": "78219584-d881-41e3-9bf3-1afbbabe66a6",
   "metadata": {},
   "outputs": [],
   "source": [
    "# Set your Tumblr App credentials\n",
    "consumer_key = \"<consumer_key>\"\n",
    "consumer_secret = \"<consumer_secret>\"\n",
    "\n",
    "# Token storage path\n",
    "tumblr_token_path = Path.home() / \".tumblr\"\n",
    "\n",
    "# Function to load tokens from file\n",
    "def load_tokens():\n",
    "    if tumblr_token_path.exists():\n",
    "        with open(tumblr_token_path, \"r\") as f:\n",
    "            return yaml.safe_load(f)\n",
    "    return None\n",
    "\n",
    "# Function to save tokens to file\n",
    "def save_tokens(tokens):\n",
    "    with open(tumblr_token_path, \"w\") as f:\n",
    "        yaml.dump(tokens, f)\n",
    "    print(f\"Tokens saved to {tumblr_token_path}\")"
   ]
  },
  {
   "cell_type": "code",
   "execution_count": null,
   "id": "2fc8bfe3-d18d-440a-8a1d-3463cc1cc918",
   "metadata": {},
   "outputs": [],
   "source": [
    "def do_oauth():\n",
    "    tumblr = OAuth1Service(\n",
    "        name='tumblr',\n",
    "        consumer_key=consumer_key,\n",
    "        consumer_secret=consumer_secret,\n",
    "        request_token_url='https://www.tumblr.com/oauth/request_token',\n",
    "        access_token_url='https://www.tumblr.com/oauth/access_token',\n",
    "        authorize_url='https://www.tumblr.com/oauth/authorize',\n",
    "        base_url='https://api.tumblr.com/v2/'\n",
    "    )\n",
    "    # Step 1: Get request token\n",
    "    request_token, request_token_secret = tumblr.get_request_token(params={'oauth_callback': 'http://www.example.com'})\n",
    "    authorize_url = tumblr.get_authorize_url(request_token) \n",
    "\n",
    "    print(\"Go to this URL and authorize the app:\")\n",
    "    print(authorize_url)\n",
    "\n",
    "    webbrowser.open(authorize_url)\n",
    "\n",
    "    verifier = input(\"Paste the verifier Tumblr shows you: \").strip()\n",
    "\n",
    "    session = tumblr.get_auth_session(request_token, request_token_secret,\n",
    "                                 method='POST', data={'oauth_verifier': verifier})\n",
    "     # Print the oauth_token and oauth_token_secret\n",
    "    print(\"OAuth Token:\", session.access_token)\n",
    "    print(\"OAuth Token Secret:\", session.access_token_secret)\n",
    "\n",
    "    return {\n",
    "        'consumer_key': consumer_key,\n",
    "        'consumer_secret': consumer_secret,\n",
    "        'oauth_token': session.access_token,\n",
    "        'oauth_token_secret': session.access_token_secret\n",
    "    }"
   ]
  },
  {
   "cell_type": "markdown",
   "id": "33200c9e-afbd-4e1a-8bb2-8ab926f0743e",
   "metadata": {},
   "source": [
    "__After running the snippet below, and authorizing the app, the verifier is found in the URL after 'oauth_verifier='__"
   ]
  },
  {
   "cell_type": "code",
   "execution_count": null,
   "id": "e3f6188d-36c8-42e0-b19a-c6f3177ae19f",
   "metadata": {},
   "outputs": [],
   "source": [
    "tokens = do_oauth()"
   ]
  },
  {
   "cell_type": "code",
   "execution_count": null,
   "id": "be4841f4-ff33-4cf8-836a-8d1e5ec1ac95",
   "metadata": {},
   "outputs": [],
   "source": []
  },
  {
   "cell_type": "code",
   "execution_count": null,
   "id": "17e05441-8bdb-4fa4-9934-b59553014e1c",
   "metadata": {},
   "outputs": [],
   "source": []
  },
  {
   "cell_type": "code",
   "execution_count": null,
   "id": "5edcc4ce-71ea-4248-9802-dd8864b47a63",
   "metadata": {},
   "outputs": [],
   "source": []
  },
  {
   "cell_type": "code",
   "execution_count": null,
   "id": "8f5327ff-6f44-438b-9513-d0a453795134",
   "metadata": {},
   "outputs": [],
   "source": []
  },
  {
   "cell_type": "code",
   "execution_count": null,
   "id": "b1511708-bb8e-4ed7-97fd-fb16f7fef6d6",
   "metadata": {},
   "outputs": [],
   "source": []
  },
  {
   "cell_type": "code",
   "execution_count": null,
   "id": "b0b43b6d-651a-47c2-a9dd-cff0c4091a26",
   "metadata": {},
   "outputs": [],
   "source": []
  },
  {
   "cell_type": "code",
   "execution_count": null,
   "id": "6b0eb627-28d5-4e9c-80b3-01c88c4d0b6b",
   "metadata": {},
   "outputs": [],
   "source": []
  },
  {
   "cell_type": "markdown",
   "id": "bc803ee9-fa7a-4a58-89f2-47baca184825",
   "metadata": {},
   "source": [
    "# Corpus Collection and Preprocessing"
   ]
  },
  {
   "cell_type": "code",
   "execution_count": null,
   "id": "aef2e4ae-cbbe-4512-ae51-f0752e54ad07",
   "metadata": {},
   "outputs": [],
   "source": []
  },
  {
   "cell_type": "code",
   "execution_count": null,
   "id": "2de441c2-54ba-4fcc-be1b-2a23e6e1c582",
   "metadata": {},
   "outputs": [],
   "source": []
  },
  {
   "cell_type": "code",
   "execution_count": null,
   "id": "c4ee0496-4b96-4461-b5e9-251b2588e5b2",
   "metadata": {},
   "outputs": [],
   "source": []
  },
  {
   "cell_type": "code",
   "execution_count": null,
   "id": "b2eb1c36-089e-413f-8040-1c99fe7cbf29",
   "metadata": {},
   "outputs": [],
   "source": []
  },
  {
   "cell_type": "code",
   "execution_count": null,
   "id": "926d0e10-025c-4933-85d4-f56660499476",
   "metadata": {},
   "outputs": [],
   "source": []
  },
  {
   "cell_type": "code",
   "execution_count": null,
   "id": "4f8d7751-9ad9-4dd3-91aa-2087feba6df8",
   "metadata": {},
   "outputs": [],
   "source": []
  },
  {
   "cell_type": "code",
   "execution_count": null,
   "id": "fb951d03-2594-4136-a225-ca510482e045",
   "metadata": {},
   "outputs": [],
   "source": []
  },
  {
   "cell_type": "code",
   "execution_count": null,
   "id": "8d507fde-173c-4a06-a8e4-b88390eec8aa",
   "metadata": {},
   "outputs": [],
   "source": []
  },
  {
   "cell_type": "code",
   "execution_count": null,
   "id": "01a46c1d-242f-4338-ab0b-0b4485160549",
   "metadata": {},
   "outputs": [],
   "source": []
  },
  {
   "cell_type": "code",
   "execution_count": null,
   "id": "39e17b74-82d1-468a-b0a5-bcc8c36cc583",
   "metadata": {},
   "outputs": [],
   "source": []
  },
  {
   "cell_type": "code",
   "execution_count": null,
   "id": "7c6209cc-e590-48a3-b082-c89db89134b5",
   "metadata": {},
   "outputs": [],
   "source": []
  },
  {
   "cell_type": "code",
   "execution_count": null,
   "id": "701ed301-24ea-4c76-a3eb-827ccd2d8654",
   "metadata": {},
   "outputs": [],
   "source": []
  },
  {
   "cell_type": "code",
   "execution_count": null,
   "id": "c28148eb-692c-4833-9646-11334a9a69c9",
   "metadata": {},
   "outputs": [],
   "source": []
  },
  {
   "cell_type": "code",
   "execution_count": null,
   "id": "ae7bd86f-2b5e-4093-a2c8-b410161e9a48",
   "metadata": {},
   "outputs": [],
   "source": []
  },
  {
   "cell_type": "code",
   "execution_count": null,
   "id": "832d8081-001c-4ce2-9a77-9b0e149e6941",
   "metadata": {},
   "outputs": [],
   "source": []
  },
  {
   "cell_type": "code",
   "execution_count": null,
   "id": "0ee11aff-594a-4441-9d19-4cae2b5a9382",
   "metadata": {},
   "outputs": [],
   "source": []
  },
  {
   "cell_type": "code",
   "execution_count": null,
   "id": "a1126976-27cb-4f18-9ada-67f051091243",
   "metadata": {},
   "outputs": [],
   "source": []
  },
  {
   "cell_type": "code",
   "execution_count": null,
   "id": "8b3ff0da-e1a2-429e-a762-5507f111841c",
   "metadata": {},
   "outputs": [],
   "source": []
  },
  {
   "cell_type": "code",
   "execution_count": null,
   "id": "13402643-736f-4ad9-97ab-d74fbbc67207",
   "metadata": {},
   "outputs": [],
   "source": []
  },
  {
   "cell_type": "code",
   "execution_count": null,
   "id": "e9313383-5666-47e2-a49d-6b851178b491",
   "metadata": {},
   "outputs": [],
   "source": []
  },
  {
   "cell_type": "markdown",
   "id": "9fb039ab-b4a5-453c-8c83-5843875afa59",
   "metadata": {},
   "source": [
    "# Tag Frequency Analysis and Filtering for Corpus "
   ]
  },
  {
   "cell_type": "code",
   "execution_count": null,
   "id": "46131a89-4d2e-4323-a5a4-bf3b0031bf48",
   "metadata": {},
   "outputs": [],
   "source": []
  },
  {
   "cell_type": "code",
   "execution_count": null,
   "id": "4a729d27-0d53-42d8-9523-9e613352b975",
   "metadata": {},
   "outputs": [],
   "source": []
  },
  {
   "cell_type": "code",
   "execution_count": null,
   "id": "6ef38d6b-769f-455c-b09e-a8adb5940636",
   "metadata": {},
   "outputs": [],
   "source": []
  },
  {
   "cell_type": "code",
   "execution_count": null,
   "id": "9cc7cd8b-c5a3-4e5e-90ca-723e6874677e",
   "metadata": {},
   "outputs": [],
   "source": []
  },
  {
   "cell_type": "code",
   "execution_count": null,
   "id": "6e3463f0-497d-4693-aea1-a51aa8e3cef6",
   "metadata": {},
   "outputs": [],
   "source": []
  },
  {
   "cell_type": "code",
   "execution_count": null,
   "id": "bdbbdb7f-687a-40ed-a611-a91b61a98eab",
   "metadata": {},
   "outputs": [],
   "source": []
  },
  {
   "cell_type": "code",
   "execution_count": null,
   "id": "0d8660a3-e7ee-4e5b-9802-6de9bf7f5f74",
   "metadata": {},
   "outputs": [],
   "source": []
  },
  {
   "cell_type": "code",
   "execution_count": null,
   "id": "63518cef-eb1c-4608-894f-a0ba0e4f1187",
   "metadata": {},
   "outputs": [],
   "source": []
  },
  {
   "cell_type": "code",
   "execution_count": null,
   "id": "93c815ca-c518-4e9b-93bb-37f75a19ddac",
   "metadata": {},
   "outputs": [],
   "source": []
  },
  {
   "cell_type": "code",
   "execution_count": null,
   "id": "a5396089-28ac-4bbf-81d0-21e3f4ff9f62",
   "metadata": {},
   "outputs": [],
   "source": []
  },
  {
   "cell_type": "markdown",
   "id": "f908bc1a-ed0d-48ff-ab86-dcd5c28df8cd",
   "metadata": {},
   "source": [
    "# Computational Linguistic and Sentiment Analysis"
   ]
  },
  {
   "cell_type": "markdown",
   "id": "732d18df-d573-496e-8bbd-9145a1eccae0",
   "metadata": {},
   "source": [
    "## Power and Agency (Linguistic) "
   ]
  },
  {
   "cell_type": "code",
   "execution_count": null,
   "id": "8a113244-f12b-4c3e-8754-fd6832724966",
   "metadata": {},
   "outputs": [],
   "source": []
  },
  {
   "cell_type": "code",
   "execution_count": null,
   "id": "ddf9df19-e94c-4bdb-975e-c2916747a053",
   "metadata": {},
   "outputs": [],
   "source": []
  },
  {
   "cell_type": "code",
   "execution_count": null,
   "id": "baae509e-2f21-49e1-9a3d-bca0064adb67",
   "metadata": {},
   "outputs": [],
   "source": []
  },
  {
   "cell_type": "code",
   "execution_count": null,
   "id": "842a07b3-6e4f-4fb3-a134-7327e2f321f3",
   "metadata": {},
   "outputs": [],
   "source": []
  },
  {
   "cell_type": "code",
   "execution_count": null,
   "id": "5d60f340-438c-427e-a566-fad8ae8ee8cc",
   "metadata": {},
   "outputs": [],
   "source": []
  },
  {
   "cell_type": "code",
   "execution_count": null,
   "id": "6777e5cf-48f0-431e-a911-41ac4dfefcd3",
   "metadata": {},
   "outputs": [],
   "source": []
  },
  {
   "cell_type": "markdown",
   "id": "5d1d4bbc-09cc-4498-9805-0473dd5d585f",
   "metadata": {},
   "source": [
    "## Writer_Perspectove and Agent_Theme_Perspective (Sentiment)"
   ]
  },
  {
   "cell_type": "code",
   "execution_count": null,
   "id": "a685c843-1fb7-408e-8873-4fc6388a2d50",
   "metadata": {},
   "outputs": [],
   "source": []
  },
  {
   "cell_type": "code",
   "execution_count": null,
   "id": "282f87b6-f579-454d-8979-108681606faf",
   "metadata": {},
   "outputs": [],
   "source": []
  },
  {
   "cell_type": "code",
   "execution_count": null,
   "id": "042ddb98-e710-4603-8ad8-ea9ca3abcae0",
   "metadata": {},
   "outputs": [],
   "source": []
  }
 ],
 "metadata": {
  "kernelspec": {
   "display_name": "Python 3 (ipykernel)",
   "language": "python",
   "name": "python3"
  },
  "language_info": {
   "codemirror_mode": {
    "name": "ipython",
    "version": 3
   },
   "file_extension": ".py",
   "mimetype": "text/x-python",
   "name": "python",
   "nbconvert_exporter": "python",
   "pygments_lexer": "ipython3",
   "version": "3.9.23"
  }
 },
 "nbformat": 4,
 "nbformat_minor": 5
}
